{
 "cells": [
  {
   "cell_type": "code",
   "execution_count": 61,
   "id": "4adda817",
   "metadata": {},
   "outputs": [],
   "source": [
    "import pandas as pd \n",
    "import matplotlib as plt"
   ]
  },
  {
   "cell_type": "code",
   "execution_count": 70,
   "id": "25f2dcb2",
   "metadata": {},
   "outputs": [
    {
     "name": "stdout",
     "output_type": "stream",
     "text": [
      "        Fecha      Precio  Volumen Sentimiento EstadoDolar ActivoRef Tendencia\n",
      "0  2022-01-01  101.293428     1648    positivo      fuerte  petróleo      baja\n",
      "1  2022-01-02  101.316900     1317    negativo       debil       oro      sube\n",
      "2  2022-01-03  102.912277     4748    negativo      fuerte     bonos      baja\n",
      "3  2022-01-04  106.258336     4296    positivo       debil       oro      sube\n",
      "4  2022-01-05  106.090030     4890    positivo      fuerte       oro      baja\n"
     ]
    }
   ],
   "source": [
    "df = pd.read_csv('dataset_financiero.csv')\n",
    "print(df.head())"
   ]
  },
  {
   "cell_type": "code",
   "execution_count": 72,
   "id": "9bea5575",
   "metadata": {},
   "outputs": [
    {
     "data": {
      "text/html": [
       "<div>\n",
       "<style scoped>\n",
       "    .dataframe tbody tr th:only-of-type {\n",
       "        vertical-align: middle;\n",
       "    }\n",
       "\n",
       "    .dataframe tbody tr th {\n",
       "        vertical-align: top;\n",
       "    }\n",
       "\n",
       "    .dataframe thead th {\n",
       "        text-align: right;\n",
       "    }\n",
       "</style>\n",
       "<table border=\"1\" class=\"dataframe\">\n",
       "  <thead>\n",
       "    <tr style=\"text-align: right;\">\n",
       "      <th>EstadoDolar</th>\n",
       "      <th>debil</th>\n",
       "      <th>fuerte</th>\n",
       "    </tr>\n",
       "    <tr>\n",
       "      <th>Sentimiento</th>\n",
       "      <th></th>\n",
       "      <th></th>\n",
       "    </tr>\n",
       "  </thead>\n",
       "  <tbody>\n",
       "    <tr>\n",
       "      <th>negativo</th>\n",
       "      <td>100.363526</td>\n",
       "      <td>101.647387</td>\n",
       "    </tr>\n",
       "    <tr>\n",
       "      <th>neutral</th>\n",
       "      <td>103.812739</td>\n",
       "      <td>100.109539</td>\n",
       "    </tr>\n",
       "    <tr>\n",
       "      <th>positivo</th>\n",
       "      <td>105.306923</td>\n",
       "      <td>102.313862</td>\n",
       "    </tr>\n",
       "  </tbody>\n",
       "</table>\n",
       "</div>"
      ],
      "text/plain": [
       "EstadoDolar       debil      fuerte\n",
       "Sentimiento                        \n",
       "negativo     100.363526  101.647387\n",
       "neutral      103.812739  100.109539\n",
       "positivo     105.306923  102.313862"
      ]
     },
     "execution_count": 72,
     "metadata": {},
     "output_type": "execute_result"
    }
   ],
   "source": [
    "pivot = df.pivot_table(\n",
    "    values=\"Precio\",\n",
    "    index=\"Sentimiento\",\n",
    "    columns=\"EstadoDolar\",\n",
    "    aggfunc=\"mean\",\n",
    "    fill_value=0\n",
    ")\n",
    "pivot"
   ]
  },
  {
   "cell_type": "code",
   "execution_count": 73,
   "id": "1fa97fc0",
   "metadata": {},
   "outputs": [
    {
     "data": {
      "text/html": [
       "<div>\n",
       "<style scoped>\n",
       "    .dataframe tbody tr th:only-of-type {\n",
       "        vertical-align: middle;\n",
       "    }\n",
       "\n",
       "    .dataframe tbody tr th {\n",
       "        vertical-align: top;\n",
       "    }\n",
       "\n",
       "    .dataframe thead tr th {\n",
       "        text-align: left;\n",
       "    }\n",
       "\n",
       "    .dataframe thead tr:last-of-type th {\n",
       "        text-align: right;\n",
       "    }\n",
       "</style>\n",
       "<table border=\"1\" class=\"dataframe\">\n",
       "  <thead>\n",
       "    <tr>\n",
       "      <th></th>\n",
       "      <th colspan=\"3\" halign=\"left\">Precio</th>\n",
       "      <th colspan=\"3\" halign=\"left\">Volumen</th>\n",
       "    </tr>\n",
       "    <tr>\n",
       "      <th>Sentimiento</th>\n",
       "      <th>negativo</th>\n",
       "      <th>neutral</th>\n",
       "      <th>positivo</th>\n",
       "      <th>negativo</th>\n",
       "      <th>neutral</th>\n",
       "      <th>positivo</th>\n",
       "    </tr>\n",
       "    <tr>\n",
       "      <th>Tendencia</th>\n",
       "      <th></th>\n",
       "      <th></th>\n",
       "      <th></th>\n",
       "      <th></th>\n",
       "      <th></th>\n",
       "      <th></th>\n",
       "    </tr>\n",
       "  </thead>\n",
       "  <tbody>\n",
       "    <tr>\n",
       "      <th>baja</th>\n",
       "      <td>101.097461</td>\n",
       "      <td>100.365218</td>\n",
       "      <td>101.826763</td>\n",
       "      <td>3661.300000</td>\n",
       "      <td>3118.842105</td>\n",
       "      <td>2979.833333</td>\n",
       "    </tr>\n",
       "    <tr>\n",
       "      <th>sube</th>\n",
       "      <td>100.729677</td>\n",
       "      <td>103.707767</td>\n",
       "      <td>104.682809</td>\n",
       "      <td>2342.777778</td>\n",
       "      <td>3214.272727</td>\n",
       "      <td>2881.241379</td>\n",
       "    </tr>\n",
       "  </tbody>\n",
       "</table>\n",
       "</div>"
      ],
      "text/plain": [
       "                 Precio                              Volumen               \\\n",
       "Sentimiento    negativo     neutral    positivo     negativo      neutral   \n",
       "Tendencia                                                                   \n",
       "baja         101.097461  100.365218  101.826763  3661.300000  3118.842105   \n",
       "sube         100.729677  103.707767  104.682809  2342.777778  3214.272727   \n",
       "\n",
       "                          \n",
       "Sentimiento     positivo  \n",
       "Tendencia                 \n",
       "baja         2979.833333  \n",
       "sube         2881.241379  "
      ]
     },
     "execution_count": 73,
     "metadata": {},
     "output_type": "execute_result"
    }
   ],
   "source": [
    "pivot2 = df.pivot_table(\n",
    "    values=[\"Precio\", \"Volumen\"],\n",
    "    index=\"Tendencia\",\n",
    "    columns=\"Sentimiento\",\n",
    "    aggfunc=\"mean\",\n",
    "    fill_value=0\n",
    ")\n",
    "pivot2"
   ]
  },
  {
   "cell_type": "code",
   "execution_count": 74,
   "id": "61584462",
   "metadata": {},
   "outputs": [],
   "source": [
    "pivot3 = df.pivot_table(\n",
    "    values=\"Precio\",\n",
    "    index=\"Tendencia\",\n",
    "    columns=\"EstadoDolar\",\n",
    "    aggfunc=[\"max\", \"min\"],\n",
    "    fill_value=0\n",
    ")"
   ]
  },
  {
   "cell_type": "code",
   "execution_count": 63,
   "id": "c51a98b7",
   "metadata": {},
   "outputs": [
    {
     "data": {
      "text/plain": [
       "['Fecha',\n",
       " 'Precio',\n",
       " 'Volumen',\n",
       " 'Sentimiento',\n",
       " 'EstadoDolar',\n",
       " 'ActivoRef',\n",
       " 'Tendencia']"
      ]
     },
     "execution_count": 63,
     "metadata": {},
     "output_type": "execute_result"
    }
   ],
   "source": [
    "df.columns.tolist()"
   ]
  },
  {
   "cell_type": "code",
   "execution_count": 64,
   "id": "03abb425",
   "metadata": {},
   "outputs": [
    {
     "name": "stdout",
     "output_type": "stream",
     "text": [
      "<bound method NDFrame.head of         Precio  Volumen  Sentimiento_negativo  Sentimiento_neutral  \\\n",
      "0   101.293428     1648                 False                False   \n",
      "1   101.316900     1317                  True                False   \n",
      "2   102.912277     4748                  True                False   \n",
      "3   106.258336     4296                 False                False   \n",
      "4   106.090030     4890                 False                False   \n",
      "..         ...      ...                   ...                  ...   \n",
      "95  107.375293     3385                 False                False   \n",
      "96  108.267533     3919                 False                False   \n",
      "97  109.089644     1640                 False                False   \n",
      "98  109.399871     2802                 False                False   \n",
      "99  109.230697     3520                 False                 True   \n",
      "\n",
      "    Sentimiento_positivo  EstadoDolar_debil  EstadoDolar_fuerte  \\\n",
      "0                   True              False                True   \n",
      "1                  False               True               False   \n",
      "2                  False              False                True   \n",
      "3                   True               True               False   \n",
      "4                   True              False                True   \n",
      "..                   ...                ...                 ...   \n",
      "95                  True               True               False   \n",
      "96                  True              False                True   \n",
      "97                  True              False                True   \n",
      "98                  True              False                True   \n",
      "99                 False               True               False   \n",
      "\n",
      "    ActivoRef_bonos  ActivoRef_oro  ActivoRef_petróleo  \n",
      "0             False          False                True  \n",
      "1             False           True               False  \n",
      "2              True          False               False  \n",
      "3             False           True               False  \n",
      "4             False           True               False  \n",
      "..              ...            ...                 ...  \n",
      "95            False          False                True  \n",
      "96            False           True               False  \n",
      "97             True          False               False  \n",
      "98             True          False               False  \n",
      "99            False           True               False  \n",
      "\n",
      "[100 rows x 10 columns]>\n"
     ]
    }
   ],
   "source": [
    "df = pd.get_dummies(x, columns=[\"Sentimiento\", \"EstadoDolar\", \"ActivoRef\"])\n",
    "print(df.head)"
   ]
  },
  {
   "cell_type": "code",
   "execution_count": 65,
   "id": "eccff93f",
   "metadata": {},
   "outputs": [
    {
     "data": {
      "text/plain": [
       "['Precio',\n",
       " 'Volumen',\n",
       " 'Sentimiento_negativo',\n",
       " 'Sentimiento_neutral',\n",
       " 'Sentimiento_positivo',\n",
       " 'EstadoDolar_debil',\n",
       " 'EstadoDolar_fuerte',\n",
       " 'ActivoRef_bonos',\n",
       " 'ActivoRef_oro',\n",
       " 'ActivoRef_petróleo']"
      ]
     },
     "execution_count": 65,
     "metadata": {},
     "output_type": "execute_result"
    }
   ],
   "source": [
    "df.columns.tolist()"
   ]
  }
 ],
 "metadata": {
  "kernelspec": {
   "display_name": "FinalWorkMLEC",
   "language": "python",
   "name": "python3"
  },
  "language_info": {
   "codemirror_mode": {
    "name": "ipython",
    "version": 3
   },
   "file_extension": ".py",
   "mimetype": "text/x-python",
   "name": "python",
   "nbconvert_exporter": "python",
   "pygments_lexer": "ipython3",
   "version": "3.13.5"
  }
 },
 "nbformat": 4,
 "nbformat_minor": 5
}
